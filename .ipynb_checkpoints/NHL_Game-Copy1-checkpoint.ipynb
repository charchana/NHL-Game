{
 "cells": [
  {
   "cell_type": "markdown",
   "metadata": {},
   "source": [
    "Be prepared to demonstrate live.  Also, be prepared to answer these question for other players and teams.\n",
    "1. Find the following statistics for two players, Patrick Kane and Alexander Ovechkin for the 2016-2017 season:\n",
    "    1. How many shift per game did they take?\n",
    "    2. What was the average time per shift?\n",
    "    3. How many shot attempts did they have per game?\n",
    "    4. How many goals did they score per game?\n",
    "2. Visualize the following for two players, Patrick Kane and Alexander Ovechkin for the 2016-2017 season:\n",
    "    1. Plot on an x/y coordinate system all of their shot attempts for the season.\n",
    "    2. Plot on an x/y coordinate system all of their hits for the season.\n",
    "3. Find the following statistics for the team, the Washington Capitals for the 2017-2018 season:\n",
    "    1. What was their Power Play Percentage, computed as 100% (Power Play Attempts / Power Play Goals)?\n",
    "    2. Compute the average per game of the following metric (takeaways - giveaways)\n",
    "4. Visualize the following for the team, the Washington Capitals for the 2017-2018 season:\n",
    "    1. Plot on an x/y coordinate system all of their shot attempts for the season.\n",
    "    2. Plot on an x/y coordinate system all of their hits for the season."
   ]
  },
  {
   "cell_type": "code",
   "execution_count": 2,
   "metadata": {
    "collapsed": true
   },
   "outputs": [],
   "source": [
    "import os\n",
    "import pandas as pd\n",
    "import calendar\n",
    "import numpy as np\n",
    "from matplotlib import pyplot as plt\n",
    "from mpl_toolkits.mplot3d import Axes3D\n",
    "import matplotlib.animation\n",
    "import pandas as pd\n",
    "import seaborn as sns\n",
    "from matplotlib.pyplot import hist\n",
    "import glob\n",
    "import datetime\n",
    "import urllib.request"
   ]
  },
  {
   "cell_type": "code",
   "execution_count": 3,
   "metadata": {
    "collapsed": false
   },
   "outputs": [],
   "source": [
    "path = os.getcwd() # getting the path of current working directory to create the folder structure\n",
    "teamInfoFile = os.path.join(path + '\\\\gameData\\\\team_info.csv') # getting the path of the csv files to be read\n",
    "playerInfoFile = os.path.join(path + '\\\\gameData\\\\player_info.csv') # getting the path of the csv files to be read\n",
    "gameShiftsFile = os.path.join(path + '\\\\gameData\\\\game_shifts.csv') # getting the path of the csv files to be read\n",
    "gameFile = os.path.join(path + '\\\\gameData\\\\game.csv') # getting the path of the csv files to be read\n",
    "gameGoalieFile = os.path.join(path + '\\\\gameData\\\\game_goalie_stats.csv') # getting the path of the csv files to be read\n",
    "gameTeamsFile = os.path.join(path + '\\\\gameData\\\\game_teams_stats.csv') # getting the path of the csv files to be read\n",
    "gameSkaterFile = os.path.join(path + '\\\\gameData\\\\game_skater_stats.csv') # getting the path of the csv files to be read"
   ]
  },
  {
   "cell_type": "code",
   "execution_count": 4,
   "metadata": {
    "collapsed": false
   },
   "outputs": [
    {
     "name": "stderr",
     "output_type": "stream",
     "text": [
      "C:\\Users\\chint\\Anaconda3\\lib\\site-packages\\ipykernel\\__main__.py:2: FutureWarning: from_csv is deprecated. Please use read_csv(...) instead. Note that some of the default arguments are different, so please refer to the documentation for from_csv when changing your function calls\n",
      "  from ipykernel import kernelapp as app\n",
      "C:\\Users\\chint\\Anaconda3\\lib\\site-packages\\ipykernel\\__main__.py:3: FutureWarning: from_csv is deprecated. Please use read_csv(...) instead. Note that some of the default arguments are different, so please refer to the documentation for from_csv when changing your function calls\n",
      "  app.launch_new_instance()\n",
      "C:\\Users\\chint\\Anaconda3\\lib\\site-packages\\ipykernel\\__main__.py:4: FutureWarning: from_csv is deprecated. Please use read_csv(...) instead. Note that some of the default arguments are different, so please refer to the documentation for from_csv when changing your function calls\n",
      "C:\\Users\\chint\\Anaconda3\\lib\\site-packages\\ipykernel\\__main__.py:5: FutureWarning: from_csv is deprecated. Please use read_csv(...) instead. Note that some of the default arguments are different, so please refer to the documentation for from_csv when changing your function calls\n",
      "C:\\Users\\chint\\Anaconda3\\lib\\site-packages\\ipykernel\\__main__.py:6: FutureWarning: from_csv is deprecated. Please use read_csv(...) instead. Note that some of the default arguments are different, so please refer to the documentation for from_csv when changing your function calls\n",
      "C:\\Users\\chint\\Anaconda3\\lib\\site-packages\\ipykernel\\__main__.py:7: FutureWarning: from_csv is deprecated. Please use read_csv(...) instead. Note that some of the default arguments are different, so please refer to the documentation for from_csv when changing your function calls\n",
      "C:\\Users\\chint\\Anaconda3\\lib\\site-packages\\ipykernel\\__main__.py:8: FutureWarning: from_csv is deprecated. Please use read_csv(...) instead. Note that some of the default arguments are different, so please refer to the documentation for from_csv when changing your function calls\n"
     ]
    }
   ],
   "source": [
    "# reading the data from csv and selecting columns needed\n",
    "teamInfo = pd.DataFrame.from_csv(teamInfoFile, encoding = \"ISO-8859-1\").reset_index()\n",
    "playerInfo = pd.DataFrame.from_csv(playerInfoFile, encoding = \"ISO-8859-1\").reset_index()\n",
    "gameShifts = pd.DataFrame.from_csv(gameShiftsFile, encoding = \"ISO-8859-1\").reset_index()\n",
    "game = pd.DataFrame.from_csv(gameFile, encoding = \"ISO-8859-1\").reset_index()\n",
    "gameGoalieStats = pd.DataFrame.from_csv(gameGoalieFile, encoding = \"ISO-8859-1\").reset_index()\n",
    "gameTeamsStats = pd.DataFrame.from_csv(gameTeamsFile, encoding = \"ISO-8859-1\").reset_index()\n",
    "gameSkaterStats = pd.DataFrame.from_csv(gameSkaterFile, encoding = \"ISO-8859-1\").reset_index()\n",
    "teamInfoData = pd.DataFrame(teamInfo)\n",
    "playerInfoData = pd.DataFrame(playerInfo)\n",
    "gameShiftsData = pd.DataFrame(gameShifts)\n",
    "gameData = pd.DataFrame(game)\n",
    "gameGoalieStatsData = pd.DataFrame(gameGoalieStats)\n",
    "gameTeamsStatsData = pd.DataFrame(gameTeamsStats)\n",
    "gameSkaterStatsData = pd.DataFrame(gameSkaterStats)"
   ]
  },
  {
   "cell_type": "code",
   "execution_count": 23,
   "metadata": {
    "collapsed": false
   },
   "outputs": [],
   "source": [
    "def gettingThePlayerID(firstName, lastName, season):\n",
    "    playersFiltered = playerInfoData.loc[playerInfoData['firstName'].isin(firstName) & playerInfoData['lastName'].isin(lastName)]\n",
    "    gameIdsForSeason = pd.DataFrame(gameData.loc[gameData['season'].isin(season)],columns=['game_id'])\n",
    "    gameIds = gameIdsForSeason.game_id\n",
    "    playerIDs = playersFiltered.player_id\n",
    "    return [playerIDs.values.tolist(), gameIds.values.tolist()]"
   ]
  },
  {
   "cell_type": "code",
   "execution_count": 6,
   "metadata": {
    "collapsed": true
   },
   "outputs": [],
   "source": [
    "def shiftsAnalysis(playerAndGames):\n",
    "    shiftsOfPlayers = gameShiftsData.loc[gameShiftsData['game_id'].isin(playerAndGames[1]) & gameShiftsData['player_id'].isin(playerAndGames[0])]\n",
    "    shiftsOfPlayers['shift_difference'] = shiftsOfPlayers.shift_end-shiftsOfPlayers.shift_start\n",
    "    playersTotalShiftsPerGame = pd.DataFrame({'Total_Shifts' : shiftsOfPlayers.groupby( ['player_id','game_id'] ).size()}).reset_index()\n",
    "    averageShiftSeconds = pd.DataFrame(shiftsOfPlayers.groupby(['player_id','game_id'])['shift_difference'].mean().round().astype(int)).reset_index().rename(columns={'shift_difference': 'AverageShiftSeconds'})\n",
    "    playersTotalShiftsPerGame['Average_Shift_Seconds']= averageShiftSeconds['AverageShiftSeconds']  \n",
    "    return playersTotalShiftsPerGame"
   ]
  },
  {
   "cell_type": "code",
   "execution_count": 7,
   "metadata": {
    "collapsed": false
   },
   "outputs": [],
   "source": [
    "def shotsGoalsHitsPerPlayerPerGame(playerAndGames):\n",
    "    goalsShotsPlayersForSeason = gameSkaterStatsData.loc[gameSkaterStatsData['game_id'].isin(playerAndGames[1]) & gameSkaterStatsData['player_id'].isin(playerAndGames[0])]\n",
    "    goalsShotsBothPlayers = pd.DataFrame(goalsShotsPlayersForSeason, columns= ['player_id', 'game_id','goals', 'shots', 'hits'])\n",
    "    return goalsShotsBothPlayers"
   ]
  },
  {
   "cell_type": "code",
   "execution_count": 8,
   "metadata": {
    "collapsed": true
   },
   "outputs": [],
   "source": [
    "def gettingTeamDetails(shortName, teamName, season):\n",
    "    teamsFiltered = teamInfoData.loc[teamInfoData['shortName'].isin(shortName) & teamInfoData['teamName'].isin(teamName)]\n",
    "    gameIdsForSeason = pd.DataFrame(gameData.loc[gameData['season'].isin(season)],columns=['game_id'])\n",
    "    gameIds = gameIdsForSeason.game_id\n",
    "    teamIDs = teamsFiltered.team_id\n",
    "    return [teamIDs.values.tolist(), gameIds.values.tolist()]"
   ]
  },
  {
   "cell_type": "code",
   "execution_count": 9,
   "metadata": {
    "collapsed": false
   },
   "outputs": [],
   "source": [
    "def teamStatistics(teamDetails):\n",
    "    gamesTeams = pd.DataFrame(gameTeamsStatsData.loc[gameTeamsStatsData['game_id'].isin(teamDetails[1]) & gameTeamsStatsData['team_id'].isin(teamDetails[0])], columns= ['game_id', 'team_id', 'shots', 'hits', 'powerPlayOpportunities', 'powerPlayGoals', 'giveaways', 'takeaways'])\n",
    "    gamesTeams['powerPlayPercentage'] = round((gamesTeams.powerPlayGoals/gamesTeams.powerPlayOpportunities)*100, 2)\n",
    "    gamesTeams = gamesTeams.fillna(0.00)\n",
    "    gamesTeams['powerPlayPercentage']= gamesTeams['powerPlayPercentage'].astype(str)+'%'\n",
    "    gamesTeams['turnOverDifferential'] = gamesTeams.takeaways - gamesTeams.giveaways\n",
    "    gamesTeams = pd.DataFrame(gamesTeams, columns = ['game_id', 'team_id', 'shots', 'hits', 'powerPlayPercentage', 'turnOverDifferential'])\n",
    "    return gamesTeams"
   ]
  },
  {
   "cell_type": "code",
   "execution_count": 13,
   "metadata": {
    "collapsed": false
   },
   "outputs": [],
   "source": [
    "def playersInputDetails():\n",
    "    playerFirstName = input(\"Please enter the list of players First Name separted by comma: \")\n",
    "    playerFirstName = playerFirstName.replace(\" \",\"\")\n",
    "    playerFirstName = playerFirstName.split(\",\")\n",
    "    playerLastName = input(\"Please enter the list of players Last Name separted by comma: \")\n",
    "    playerLastName = playerLastName.replace(\" \",\"\")\n",
    "    playerLastName = playerLastName.split(\",\")\n",
    "    playingSeason = input(\"Please enter the list of season for the players separted by comma: \")\n",
    "    playingSeason = playingSeason.replace(\" \",\"\")\n",
    "    playingSeason = playingSeason.split(\",\")\n",
    "    playersSeasonList = []\n",
    "    for i in playingSeason:\n",
    "        playersSeasonList.append(int(i))\n",
    "    return playerFirstName,playerLastName, playersSeasonList"
   ]
  },
  {
   "cell_type": "code",
   "execution_count": 14,
   "metadata": {
    "collapsed": true
   },
   "outputs": [],
   "source": [
    "def teamInputDetails():\n",
    "    ## Team details input\n",
    "    teamShortName = input(\"Please enter the list of teams Short Name separted by comma: \")\n",
    "    teamShortName = teamShortName.replace(\" \",\"\")\n",
    "    teamShortName = teamShortName.split(\",\")\n",
    "    teamTeamName = input(\"Please enter the list of teams Team Name separted by comma: \")\n",
    "    teamTeamName = teamTeamName.replace(\" \",\"\")\n",
    "    teamTeamName = teamTeamName.split(\",\")\n",
    "    teamSeason = input(\"Please enter the list of season for the teams separted by comma: \")\n",
    "    teamSeason = teamSeason.replace(\" \",\"\")\n",
    "    teamSeason = teamSeason.split(\",\")\n",
    "    teamSeasonList = []\n",
    "    for i in teamSeason:\n",
    "        teamSeasonList.append(int(i))\n",
    "    return teamShortName,teamTeamName, teamSeasonList"
   ]
  },
  {
   "cell_type": "code",
   "execution_count": 24,
   "metadata": {
    "collapsed": false
   },
   "outputs": [
    {
     "name": "stdout",
     "output_type": "stream",
     "text": [
      "Please enter the list of players First Name separted by comma: p\n",
      "Please enter the list of players Last Name separted by comma: a\n",
      "Please enter the list of season for the players separted by comma: 2\n",
      "Please enter the list of teams Short Name separted by comma: 1\n",
      "Please enter the list of teams Team Name separted by comma: i\n",
      "Please enter the list of season for the teams separted by comma: 2\n",
      "Please Enter a valid Player Name: \n",
      "A.How many shift per game did they take?\n",
      "B.What was the average time per shift?\n",
      "Empty DataFrame\n",
      "Columns: [player_id, game_id, Total_Shifts, Average_Shift_Seconds]\n",
      "Index: []\n",
      "C.How many shot attempts did they have per game?\n",
      "D.How many goals did they score per game?\n",
      "Empty DataFrame\n",
      "Columns: [player_id, game_id, goals, shots, hits]\n",
      "Index: []\n"
     ]
    },
    {
     "ename": "TypeError",
     "evalue": "Empty 'DataFrame': no numeric data to plot",
     "output_type": "error",
     "traceback": [
      "\u001b[0;31m---------------------------------------------------------------------------\u001b[0m",
      "\u001b[0;31mTypeError\u001b[0m                                 Traceback (most recent call last)",
      "\u001b[0;32m<ipython-input-24-cced5dd62ef1>\u001b[0m in \u001b[0;36m<module>\u001b[0;34m()\u001b[0m\n\u001b[1;32m     23\u001b[0m \u001b[1;33m\u001b[0m\u001b[0m\n\u001b[1;32m     24\u001b[0m \u001b[1;32mif\u001b[0m \u001b[0m__name__\u001b[0m \u001b[1;33m==\u001b[0m \u001b[1;34m'__main__'\u001b[0m\u001b[1;33m:\u001b[0m\u001b[1;33m\u001b[0m\u001b[0m\n\u001b[0;32m---> 25\u001b[0;31m     \u001b[0mmain\u001b[0m\u001b[1;33m(\u001b[0m\u001b[1;33m)\u001b[0m\u001b[1;33m\u001b[0m\u001b[0m\n\u001b[0m",
      "\u001b[0;32m<ipython-input-24-cced5dd62ef1>\u001b[0m in \u001b[0;36mmain\u001b[0;34m()\u001b[0m\n\u001b[1;32m      9\u001b[0m     \u001b[0mshotsHitsForPlayers\u001b[0m \u001b[1;33m=\u001b[0m \u001b[0mshotsGoalsHitsPerPlayerPerGame\u001b[0m\u001b[1;33m(\u001b[0m\u001b[0mplayerAndGames\u001b[0m\u001b[1;33m)\u001b[0m\u001b[1;33m\u001b[0m\u001b[0m\n\u001b[1;32m     10\u001b[0m     \u001b[0mprint\u001b[0m\u001b[1;33m(\u001b[0m\u001b[0mshotsHitsForPlayers\u001b[0m\u001b[1;33m)\u001b[0m\u001b[1;33m\u001b[0m\u001b[0m\n\u001b[0;32m---> 11\u001b[0;31m     \u001b[0mshotsHitsForPlayers\u001b[0m\u001b[1;33m.\u001b[0m\u001b[0mpivot\u001b[0m\u001b[1;33m(\u001b[0m\u001b[0mindex\u001b[0m\u001b[1;33m=\u001b[0m\u001b[1;34m'game_id'\u001b[0m\u001b[1;33m,\u001b[0m \u001b[0mcolumns\u001b[0m\u001b[1;33m=\u001b[0m\u001b[1;34m'player_id'\u001b[0m\u001b[1;33m,\u001b[0m \u001b[0mvalues\u001b[0m\u001b[1;33m=\u001b[0m\u001b[1;34m'shots'\u001b[0m\u001b[1;33m)\u001b[0m\u001b[1;33m.\u001b[0m\u001b[0mplot\u001b[0m\u001b[1;33m(\u001b[0m\u001b[0mkind\u001b[0m\u001b[1;33m=\u001b[0m\u001b[1;34m'bar'\u001b[0m\u001b[1;33m,\u001b[0m\u001b[0mfigsize\u001b[0m\u001b[1;33m=\u001b[0m\u001b[1;33m(\u001b[0m\u001b[1;36m40\u001b[0m\u001b[1;33m,\u001b[0m\u001b[1;36m10\u001b[0m\u001b[1;33m)\u001b[0m\u001b[1;33m)\u001b[0m\u001b[1;33m\u001b[0m\u001b[0m\n\u001b[0m\u001b[1;32m     12\u001b[0m     \u001b[0mplt\u001b[0m\u001b[1;33m.\u001b[0m\u001b[0mshow\u001b[0m\u001b[1;33m(\u001b[0m\u001b[1;33m)\u001b[0m\u001b[1;33m\u001b[0m\u001b[0m\n\u001b[1;32m     13\u001b[0m     \u001b[0mshotsHitsForPlayers\u001b[0m\u001b[1;33m.\u001b[0m\u001b[0mpivot\u001b[0m\u001b[1;33m(\u001b[0m\u001b[0mindex\u001b[0m\u001b[1;33m=\u001b[0m\u001b[1;34m'game_id'\u001b[0m\u001b[1;33m,\u001b[0m \u001b[0mcolumns\u001b[0m\u001b[1;33m=\u001b[0m\u001b[1;34m'player_id'\u001b[0m\u001b[1;33m,\u001b[0m \u001b[0mvalues\u001b[0m\u001b[1;33m=\u001b[0m\u001b[1;34m'hits'\u001b[0m\u001b[1;33m)\u001b[0m\u001b[1;33m.\u001b[0m\u001b[0mplot\u001b[0m\u001b[1;33m(\u001b[0m\u001b[0mkind\u001b[0m\u001b[1;33m=\u001b[0m\u001b[1;34m'bar'\u001b[0m\u001b[1;33m,\u001b[0m\u001b[0mfigsize\u001b[0m\u001b[1;33m=\u001b[0m\u001b[1;33m(\u001b[0m\u001b[1;36m40\u001b[0m\u001b[1;33m,\u001b[0m\u001b[1;36m10\u001b[0m\u001b[1;33m)\u001b[0m\u001b[1;33m)\u001b[0m\u001b[1;33m\u001b[0m\u001b[0m\n",
      "\u001b[0;32mC:\\Users\\chint\\Anaconda3\\lib\\site-packages\\pandas\\plotting\\_core.py\u001b[0m in \u001b[0;36m__call__\u001b[0;34m(self, x, y, kind, ax, subplots, sharex, sharey, layout, figsize, use_index, title, grid, legend, style, logx, logy, loglog, xticks, yticks, xlim, ylim, rot, fontsize, colormap, table, yerr, xerr, secondary_y, sort_columns, **kwds)\u001b[0m\n\u001b[1;32m   2939\u001b[0m                           \u001b[0mfontsize\u001b[0m\u001b[1;33m=\u001b[0m\u001b[0mfontsize\u001b[0m\u001b[1;33m,\u001b[0m \u001b[0mcolormap\u001b[0m\u001b[1;33m=\u001b[0m\u001b[0mcolormap\u001b[0m\u001b[1;33m,\u001b[0m \u001b[0mtable\u001b[0m\u001b[1;33m=\u001b[0m\u001b[0mtable\u001b[0m\u001b[1;33m,\u001b[0m\u001b[1;33m\u001b[0m\u001b[0m\n\u001b[1;32m   2940\u001b[0m                           \u001b[0myerr\u001b[0m\u001b[1;33m=\u001b[0m\u001b[0myerr\u001b[0m\u001b[1;33m,\u001b[0m \u001b[0mxerr\u001b[0m\u001b[1;33m=\u001b[0m\u001b[0mxerr\u001b[0m\u001b[1;33m,\u001b[0m \u001b[0msecondary_y\u001b[0m\u001b[1;33m=\u001b[0m\u001b[0msecondary_y\u001b[0m\u001b[1;33m,\u001b[0m\u001b[1;33m\u001b[0m\u001b[0m\n\u001b[0;32m-> 2941\u001b[0;31m                           sort_columns=sort_columns, **kwds)\n\u001b[0m\u001b[1;32m   2942\u001b[0m     \u001b[0m__call__\u001b[0m\u001b[1;33m.\u001b[0m\u001b[0m__doc__\u001b[0m \u001b[1;33m=\u001b[0m \u001b[0mplot_frame\u001b[0m\u001b[1;33m.\u001b[0m\u001b[0m__doc__\u001b[0m\u001b[1;33m\u001b[0m\u001b[0m\n\u001b[1;32m   2943\u001b[0m \u001b[1;33m\u001b[0m\u001b[0m\n",
      "\u001b[0;32mC:\\Users\\chint\\Anaconda3\\lib\\site-packages\\pandas\\plotting\\_core.py\u001b[0m in \u001b[0;36mplot_frame\u001b[0;34m(data, x, y, kind, ax, subplots, sharex, sharey, layout, figsize, use_index, title, grid, legend, style, logx, logy, loglog, xticks, yticks, xlim, ylim, rot, fontsize, colormap, table, yerr, xerr, secondary_y, sort_columns, **kwds)\u001b[0m\n\u001b[1;32m   1975\u001b[0m                  \u001b[0myerr\u001b[0m\u001b[1;33m=\u001b[0m\u001b[0myerr\u001b[0m\u001b[1;33m,\u001b[0m \u001b[0mxerr\u001b[0m\u001b[1;33m=\u001b[0m\u001b[0mxerr\u001b[0m\u001b[1;33m,\u001b[0m\u001b[1;33m\u001b[0m\u001b[0m\n\u001b[1;32m   1976\u001b[0m                  \u001b[0msecondary_y\u001b[0m\u001b[1;33m=\u001b[0m\u001b[0msecondary_y\u001b[0m\u001b[1;33m,\u001b[0m \u001b[0msort_columns\u001b[0m\u001b[1;33m=\u001b[0m\u001b[0msort_columns\u001b[0m\u001b[1;33m,\u001b[0m\u001b[1;33m\u001b[0m\u001b[0m\n\u001b[0;32m-> 1977\u001b[0;31m                  **kwds)\n\u001b[0m\u001b[1;32m   1978\u001b[0m \u001b[1;33m\u001b[0m\u001b[0m\n\u001b[1;32m   1979\u001b[0m \u001b[1;33m\u001b[0m\u001b[0m\n",
      "\u001b[0;32mC:\\Users\\chint\\Anaconda3\\lib\\site-packages\\pandas\\plotting\\_core.py\u001b[0m in \u001b[0;36m_plot\u001b[0;34m(data, x, y, subplots, ax, kind, **kwds)\u001b[0m\n\u001b[1;32m   1802\u001b[0m         \u001b[0mplot_obj\u001b[0m \u001b[1;33m=\u001b[0m \u001b[0mklass\u001b[0m\u001b[1;33m(\u001b[0m\u001b[0mdata\u001b[0m\u001b[1;33m,\u001b[0m \u001b[0msubplots\u001b[0m\u001b[1;33m=\u001b[0m\u001b[0msubplots\u001b[0m\u001b[1;33m,\u001b[0m \u001b[0max\u001b[0m\u001b[1;33m=\u001b[0m\u001b[0max\u001b[0m\u001b[1;33m,\u001b[0m \u001b[0mkind\u001b[0m\u001b[1;33m=\u001b[0m\u001b[0mkind\u001b[0m\u001b[1;33m,\u001b[0m \u001b[1;33m**\u001b[0m\u001b[0mkwds\u001b[0m\u001b[1;33m)\u001b[0m\u001b[1;33m\u001b[0m\u001b[0m\n\u001b[1;32m   1803\u001b[0m \u001b[1;33m\u001b[0m\u001b[0m\n\u001b[0;32m-> 1804\u001b[0;31m     \u001b[0mplot_obj\u001b[0m\u001b[1;33m.\u001b[0m\u001b[0mgenerate\u001b[0m\u001b[1;33m(\u001b[0m\u001b[1;33m)\u001b[0m\u001b[1;33m\u001b[0m\u001b[0m\n\u001b[0m\u001b[1;32m   1805\u001b[0m     \u001b[0mplot_obj\u001b[0m\u001b[1;33m.\u001b[0m\u001b[0mdraw\u001b[0m\u001b[1;33m(\u001b[0m\u001b[1;33m)\u001b[0m\u001b[1;33m\u001b[0m\u001b[0m\n\u001b[1;32m   1806\u001b[0m     \u001b[1;32mreturn\u001b[0m \u001b[0mplot_obj\u001b[0m\u001b[1;33m.\u001b[0m\u001b[0mresult\u001b[0m\u001b[1;33m\u001b[0m\u001b[0m\n",
      "\u001b[0;32mC:\\Users\\chint\\Anaconda3\\lib\\site-packages\\pandas\\plotting\\_core.py\u001b[0m in \u001b[0;36mgenerate\u001b[0;34m(self)\u001b[0m\n\u001b[1;32m    256\u001b[0m     \u001b[1;32mdef\u001b[0m \u001b[0mgenerate\u001b[0m\u001b[1;33m(\u001b[0m\u001b[0mself\u001b[0m\u001b[1;33m)\u001b[0m\u001b[1;33m:\u001b[0m\u001b[1;33m\u001b[0m\u001b[0m\n\u001b[1;32m    257\u001b[0m         \u001b[0mself\u001b[0m\u001b[1;33m.\u001b[0m\u001b[0m_args_adjust\u001b[0m\u001b[1;33m(\u001b[0m\u001b[1;33m)\u001b[0m\u001b[1;33m\u001b[0m\u001b[0m\n\u001b[0;32m--> 258\u001b[0;31m         \u001b[0mself\u001b[0m\u001b[1;33m.\u001b[0m\u001b[0m_compute_plot_data\u001b[0m\u001b[1;33m(\u001b[0m\u001b[1;33m)\u001b[0m\u001b[1;33m\u001b[0m\u001b[0m\n\u001b[0m\u001b[1;32m    259\u001b[0m         \u001b[0mself\u001b[0m\u001b[1;33m.\u001b[0m\u001b[0m_setup_subplots\u001b[0m\u001b[1;33m(\u001b[0m\u001b[1;33m)\u001b[0m\u001b[1;33m\u001b[0m\u001b[0m\n\u001b[1;32m    260\u001b[0m         \u001b[0mself\u001b[0m\u001b[1;33m.\u001b[0m\u001b[0m_make_plot\u001b[0m\u001b[1;33m(\u001b[0m\u001b[1;33m)\u001b[0m\u001b[1;33m\u001b[0m\u001b[0m\n",
      "\u001b[0;32mC:\\Users\\chint\\Anaconda3\\lib\\site-packages\\pandas\\plotting\\_core.py\u001b[0m in \u001b[0;36m_compute_plot_data\u001b[0;34m(self)\u001b[0m\n\u001b[1;32m    371\u001b[0m         \u001b[1;32mif\u001b[0m \u001b[0mis_empty\u001b[0m\u001b[1;33m:\u001b[0m\u001b[1;33m\u001b[0m\u001b[0m\n\u001b[1;32m    372\u001b[0m             raise TypeError('Empty {0!r}: no numeric data to '\n\u001b[0;32m--> 373\u001b[0;31m                             'plot'.format(numeric_data.__class__.__name__))\n\u001b[0m\u001b[1;32m    374\u001b[0m \u001b[1;33m\u001b[0m\u001b[0m\n\u001b[1;32m    375\u001b[0m         \u001b[0mself\u001b[0m\u001b[1;33m.\u001b[0m\u001b[0mdata\u001b[0m \u001b[1;33m=\u001b[0m \u001b[0mnumeric_data\u001b[0m\u001b[1;33m\u001b[0m\u001b[0m\n",
      "\u001b[0;31mTypeError\u001b[0m: Empty 'DataFrame': no numeric data to plot"
     ]
    }
   ],
   "source": [
    "def main():\n",
    "    \n",
    "    playerFirstName,playerLastName, playersSeasonList = playersInputDetails()\n",
    "    teamShortName,teamTeamName, teamSeasonList = teamInputDetails()\n",
    "    playerAndGames = gettingThePlayerID(playerFirstName,playerLastName, playersSeasonList)\n",
    "    print(\"A.How many shift per game did they take?\\nB.What was the average time per shift?\")\n",
    "    print(shiftsAnalysis(playerAndGames))\n",
    "    print(\"C.How many shot attempts did they have per game?\\nD.How many goals did they score per game?\")\n",
    "    shotsHitsForPlayers = shotsGoalsHitsPerPlayerPerGame(playerAndGames)\n",
    "    print(shotsHitsForPlayers)\n",
    "    shotsHitsForPlayers.pivot(index='game_id', columns='player_id', values='shots').plot(kind='bar',figsize=(40,10))\n",
    "    plt.show()\n",
    "    shotsHitsForPlayers.pivot(index='game_id', columns='player_id', values='hits').plot(kind='bar',figsize=(40,10))\n",
    "    plt.show()\n",
    "    teamDetails = gettingTeamDetails(teamShortName,teamTeamName, teamSeasonList)\n",
    "    print(\"A.What was their Power Play Percentage, computed as 100% (Power Play Attempts / Power Play Goals)?\\nB.Compute the average per game of the following metric (takeaways - giveaways)\")\n",
    "    teamStatisticsDetails = teamStatistics(teamDetails)\n",
    "    print(teamStatisticsDetails)\n",
    "    teamStatisticsDetails.pivot(index='game_id', columns='team_id', values='shots').plot(kind='bar',figsize=(40,10))\n",
    "    plt.show()\n",
    "    teamStatisticsDetails.pivot(index='game_id', columns='team_id', values='hits').plot(kind='bar',figsize=(40,10))\n",
    "    plt.show()\n",
    "    \n",
    "if __name__ == '__main__':\n",
    "    main()"
   ]
  },
  {
   "cell_type": "code",
   "execution_count": null,
   "metadata": {
    "collapsed": true
   },
   "outputs": [],
   "source": []
  },
  {
   "cell_type": "code",
   "execution_count": null,
   "metadata": {
    "collapsed": true
   },
   "outputs": [],
   "source": [
    "playerAndGames = gettingThePlayerID(['Patrick','Alex'],['Kane','Ovechkin'], [20162017])\n",
    "shiftsAnalysis(playerAndGames)\n",
    "shotsGoalsHitsPerPlayerPerGame(playerAndGames)\n",
    "teamDetails = gettingTeamDetails(['Washington'],['Capitals'], 20172018)"
   ]
  },
  {
   "cell_type": "code",
   "execution_count": null,
   "metadata": {
    "collapsed": true
   },
   "outputs": [],
   "source": []
  },
  {
   "cell_type": "code",
   "execution_count": null,
   "metadata": {
    "collapsed": true
   },
   "outputs": [],
   "source": []
  },
  {
   "cell_type": "code",
   "execution_count": null,
   "metadata": {
    "collapsed": true
   },
   "outputs": [],
   "source": []
  },
  {
   "cell_type": "code",
   "execution_count": 26,
   "metadata": {
    "collapsed": true
   },
   "outputs": [],
   "source": [
    "list1=[122,22,33,44,4]"
   ]
  },
  {
   "cell_type": "code",
   "execution_count": 25,
   "metadata": {
    "collapsed": true
   },
   "outputs": [],
   "source": [
    "list2=[1,2,3,4,4]"
   ]
  },
  {
   "cell_type": "code",
   "execution_count": 28,
   "metadata": {
    "collapsed": false
   },
   "outputs": [
    {
     "data": {
      "text/plain": [
       "True"
      ]
     },
     "execution_count": 28,
     "metadata": {},
     "output_type": "execute_result"
    }
   ],
   "source": [
    "any(e in list2 for e in list1) and any(e in list2 for e in list1)"
   ]
  },
  {
   "cell_type": "code",
   "execution_count": null,
   "metadata": {
    "collapsed": true
   },
   "outputs": [],
   "source": []
  },
  {
   "cell_type": "code",
   "execution_count": null,
   "metadata": {
    "collapsed": true
   },
   "outputs": [],
   "source": []
  },
  {
   "cell_type": "code",
   "execution_count": null,
   "metadata": {
    "collapsed": true
   },
   "outputs": [],
   "source": []
  }
 ],
 "metadata": {
  "anaconda-cloud": {},
  "kernelspec": {
   "display_name": "Python [conda root]",
   "language": "python",
   "name": "conda-root-py"
  },
  "language_info": {
   "codemirror_mode": {
    "name": "ipython",
    "version": 3
   },
   "file_extension": ".py",
   "mimetype": "text/x-python",
   "name": "python",
   "nbconvert_exporter": "python",
   "pygments_lexer": "ipython3",
   "version": "3.5.2"
  }
 },
 "nbformat": 4,
 "nbformat_minor": 2
}
