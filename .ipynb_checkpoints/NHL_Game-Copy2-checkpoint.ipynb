{
 "cells": [
  {
   "cell_type": "markdown",
   "metadata": {},
   "source": [
    "Be prepared to demonstrate live.  Also, be prepared to answer these question for other players and teams.\n",
    "1. Find the following statistics for two players, Patrick Kane and Alexander Ovechkin for the 2016-2017 season:\n",
    "    1. How many shift per game did they take?\n",
    "    2. What was the average time per shift?\n",
    "    3. How many shot attempts did they have per game?\n",
    "    4. How many goals did they score per game?\n",
    "2. Visualize the following for two players, Patrick Kane and Alexander Ovechkin for the 2016-2017 season:\n",
    "    1. Plot on an x/y coordinate system all of their shot attempts for the season.\n",
    "    2. Plot on an x/y coordinate system all of their hits for the season.\n",
    "3. Find the following statistics for the team, the Washington Capitals for the 2017-2018 season:\n",
    "    1. What was their Power Play Percentage, computed as 100% (Power Play Attempts / Power Play Goals)?\n",
    "    2. Compute the average per game of the following metric (takeaways - giveaways)\n",
    "4. Visualize the following for the team, the Washington Capitals for the 2017-2018 season:\n",
    "    1. Plot on an x/y coordinate system all of their shot attempts for the season.\n",
    "    2. Plot on an x/y coordinate system all of their hits for the season."
   ]
  },
  {
   "cell_type": "code",
   "execution_count": 1,
   "metadata": {
    "collapsed": true
   },
   "outputs": [],
   "source": [
    "import os\n",
    "import pandas as pd\n",
    "import calendar\n",
    "import numpy as np\n",
    "from matplotlib import pyplot as plt\n",
    "from mpl_toolkits.mplot3d import Axes3D\n",
    "import matplotlib.animation\n",
    "import pandas as pd\n",
    "import seaborn as sns\n",
    "from matplotlib.pyplot import hist\n",
    "import glob\n",
    "import datetime\n",
    "import urllib.request"
   ]
  },
  {
   "cell_type": "code",
   "execution_count": 2,
   "metadata": {
    "collapsed": false
   },
   "outputs": [],
   "source": [
    "path = os.getcwd() # getting the path of current working directory to create the folder structure\n",
    "teamInfoFile = os.path.join(path + '\\\\gameData\\\\team_info.csv') # getting the path of the csv files to be read\n",
    "playerInfoFile = os.path.join(path + '\\\\gameData\\\\player_info.csv') # getting the path of the csv files to be read\n",
    "gameShiftsFile = os.path.join(path + '\\\\gameData\\\\game_shifts.csv') # getting the path of the csv files to be read\n",
    "gameFile = os.path.join(path + '\\\\gameData\\\\game.csv') # getting the path of the csv files to be read\n",
    "gameGoalieFile = os.path.join(path + '\\\\gameData\\\\game_goalie_stats.csv') # getting the path of the csv files to be read\n",
    "gameTeamsFile = os.path.join(path + '\\\\gameData\\\\game_teams_stats.csv') # getting the path of the csv files to be read\n",
    "gameSkaterFile = os.path.join(path + '\\\\gameData\\\\game_skater_stats.csv') # getting the path of the csv files to be read"
   ]
  },
  {
   "cell_type": "code",
   "execution_count": 3,
   "metadata": {
    "collapsed": false
   },
   "outputs": [
    {
     "name": "stderr",
     "output_type": "stream",
     "text": [
      "C:\\Users\\chint\\Anaconda3\\lib\\site-packages\\ipykernel\\__main__.py:2: FutureWarning: from_csv is deprecated. Please use read_csv(...) instead. Note that some of the default arguments are different, so please refer to the documentation for from_csv when changing your function calls\n",
      "  from ipykernel import kernelapp as app\n",
      "C:\\Users\\chint\\Anaconda3\\lib\\site-packages\\ipykernel\\__main__.py:3: FutureWarning: from_csv is deprecated. Please use read_csv(...) instead. Note that some of the default arguments are different, so please refer to the documentation for from_csv when changing your function calls\n",
      "  app.launch_new_instance()\n",
      "C:\\Users\\chint\\Anaconda3\\lib\\site-packages\\ipykernel\\__main__.py:4: FutureWarning: from_csv is deprecated. Please use read_csv(...) instead. Note that some of the default arguments are different, so please refer to the documentation for from_csv when changing your function calls\n",
      "C:\\Users\\chint\\Anaconda3\\lib\\site-packages\\ipykernel\\__main__.py:5: FutureWarning: from_csv is deprecated. Please use read_csv(...) instead. Note that some of the default arguments are different, so please refer to the documentation for from_csv when changing your function calls\n",
      "C:\\Users\\chint\\Anaconda3\\lib\\site-packages\\ipykernel\\__main__.py:6: FutureWarning: from_csv is deprecated. Please use read_csv(...) instead. Note that some of the default arguments are different, so please refer to the documentation for from_csv when changing your function calls\n",
      "C:\\Users\\chint\\Anaconda3\\lib\\site-packages\\ipykernel\\__main__.py:7: FutureWarning: from_csv is deprecated. Please use read_csv(...) instead. Note that some of the default arguments are different, so please refer to the documentation for from_csv when changing your function calls\n",
      "C:\\Users\\chint\\Anaconda3\\lib\\site-packages\\ipykernel\\__main__.py:8: FutureWarning: from_csv is deprecated. Please use read_csv(...) instead. Note that some of the default arguments are different, so please refer to the documentation for from_csv when changing your function calls\n"
     ]
    }
   ],
   "source": [
    "# reading the data from csv and selecting columns needed\n",
    "teamInfo = pd.DataFrame.from_csv(teamInfoFile, encoding = \"ISO-8859-1\").reset_index()\n",
    "playerInfo = pd.DataFrame.from_csv(playerInfoFile, encoding = \"ISO-8859-1\").reset_index()\n",
    "gameShifts = pd.DataFrame.from_csv(gameShiftsFile, encoding = \"ISO-8859-1\").reset_index()\n",
    "game = pd.DataFrame.from_csv(gameFile, encoding = \"ISO-8859-1\").reset_index()\n",
    "gameGoalieStats = pd.DataFrame.from_csv(gameGoalieFile, encoding = \"ISO-8859-1\").reset_index()\n",
    "gameTeamsStats = pd.DataFrame.from_csv(gameTeamsFile, encoding = \"ISO-8859-1\").reset_index()\n",
    "gameSkaterStats = pd.DataFrame.from_csv(gameSkaterFile, encoding = \"ISO-8859-1\").reset_index()\n",
    "teamInfoData = pd.DataFrame(teamInfo)\n",
    "playerInfoData = pd.DataFrame(playerInfo)\n",
    "gameShiftsData = pd.DataFrame(gameShifts)\n",
    "gameData = pd.DataFrame(game)\n",
    "gameGoalieStatsData = pd.DataFrame(gameGoalieStats)\n",
    "gameTeamsStatsData = pd.DataFrame(gameTeamsStats)\n",
    "gameSkaterStatsData = pd.DataFrame(gameSkaterStats)"
   ]
  },
  {
   "cell_type": "code",
   "execution_count": 15,
   "metadata": {
    "collapsed": false
   },
   "outputs": [],
   "source": [
    "def gettingThePlayerID():\n",
    "    # input paramaters\n",
    "    playerFirstName = input(\"Please enter the list of players First Name separted by comma: \")\n",
    "    playerFirstName = playerFirstName.replace(\" \",\"\")\n",
    "    playerFirstName = playerFirstName.split(\",\")\n",
    "    playerLastName = input(\"Please enter the list of players Last Name separted by comma: \")\n",
    "    playerLastName = playerLastName.replace(\" \",\"\")\n",
    "    playerLastName = playerLastName.split(\",\")\n",
    "    \n",
    "    #playerInfoData['firstName'].isin(playerFirstName) and playerInfoData['lastName'].isin(playerLastName)\n",
    "    if(any(e in playerFirstName for e in playerInfoData['firstName']) and any(e in playerLastName for e in playerInfoData['lastName'])):\n",
    "        playersFiltered = playerInfoData.loc[playerInfoData['firstName'].isin(playerFirstName) & playerInfoData['lastName'].isin(playerLastName)]\n",
    "        playerIDs = playersFiltered.player_id\n",
    "        playingSeason = input(\"Please enter the list of season for the players separted by comma: \")\n",
    "        playingSeason = playingSeason.replace(\" \",\"\")\n",
    "        playingSeason = playingSeason.split(\",\")\n",
    "        playersSeasonList = []\n",
    "        for i in playingSeason:\n",
    "            playersSeasonList.append(int(i))\n",
    "        if(len(playersSeasonList)>0):\n",
    "            gameIdsForSeason = pd.DataFrame(gameData.loc[gameData['season'].isin(season)],columns=['game_id'])\n",
    "            gameIds = gameIdsForSeason.game_id\n",
    "            return [playerIDs.values.tolist(), gameIds.values.tolist()]\n",
    "        \n",
    "        else:\n",
    "            print(\"Please enter the valid season\")\n",
    "            raise SystemExit\n",
    "        \n",
    "    else:\n",
    "        print(\"Please enter the valid First Name and Last Name\")\n",
    "        \n",
    "        raise SystemExit\n",
    "    "
   ]
  },
  {
   "cell_type": "code",
   "execution_count": 16,
   "metadata": {
    "collapsed": true
   },
   "outputs": [],
   "source": [
    "def shiftsAnalysis(playerAndGames):\n",
    "    shiftsOfPlayers = gameShiftsData.loc[gameShiftsData['game_id'].isin(playerAndGames[1]) & gameShiftsData['player_id'].isin(playerAndGames[0])]\n",
    "    shiftsOfPlayers['shift_difference'] = shiftsOfPlayers.shift_end-shiftsOfPlayers.shift_start\n",
    "    playersTotalShiftsPerGame = pd.DataFrame({'Total_Shifts' : shiftsOfPlayers.groupby( ['player_id','game_id'] ).size()}).reset_index()\n",
    "    averageShiftSeconds = pd.DataFrame(shiftsOfPlayers.groupby(['player_id','game_id'])['shift_difference'].mean().round().astype(int)).reset_index().rename(columns={'shift_difference': 'AverageShiftSeconds'})\n",
    "    playersTotalShiftsPerGame['Average_Shift_Seconds']= averageShiftSeconds['AverageShiftSeconds']  \n",
    "    return playersTotalShiftsPerGame"
   ]
  },
  {
   "cell_type": "code",
   "execution_count": 17,
   "metadata": {
    "collapsed": false
   },
   "outputs": [],
   "source": [
    "def shotsGoalsHitsPerPlayerPerGame(playerAndGames):\n",
    "    goalsShotsPlayersForSeason = gameSkaterStatsData.loc[gameSkaterStatsData['game_id'].isin(playerAndGames[1]) & gameSkaterStatsData['player_id'].isin(playerAndGames[0])]\n",
    "    goalsShotsBothPlayers = pd.DataFrame(goalsShotsPlayersForSeason, columns= ['player_id', 'game_id','goals', 'shots', 'hits'])\n",
    "    return goalsShotsBothPlayers"
   ]
  },
  {
   "cell_type": "code",
   "execution_count": 18,
   "metadata": {
    "collapsed": true
   },
   "outputs": [],
   "source": [
    "def gettingTeamDetails(shortName, teamName, season):\n",
    "    teamsFiltered = teamInfoData.loc[teamInfoData['shortName'].isin(shortName) & teamInfoData['teamName'].isin(teamName)]\n",
    "    gameIdsForSeason = pd.DataFrame(gameData.loc[gameData['season'].isin(season)],columns=['game_id'])\n",
    "    gameIds = gameIdsForSeason.game_id\n",
    "    teamIDs = teamsFiltered.team_id\n",
    "    return [teamIDs.values.tolist(), gameIds.values.tolist()]"
   ]
  },
  {
   "cell_type": "code",
   "execution_count": 19,
   "metadata": {
    "collapsed": false
   },
   "outputs": [],
   "source": [
    "def teamStatistics(teamDetails):\n",
    "    gamesTeams = pd.DataFrame(gameTeamsStatsData.loc[gameTeamsStatsData['game_id'].isin(teamDetails[1]) & gameTeamsStatsData['team_id'].isin(teamDetails[0])], columns= ['game_id', 'team_id', 'shots', 'hits', 'powerPlayOpportunities', 'powerPlayGoals', 'giveaways', 'takeaways'])\n",
    "    gamesTeams['powerPlayPercentage'] = round((gamesTeams.powerPlayGoals/gamesTeams.powerPlayOpportunities)*100, 2)\n",
    "    gamesTeams = gamesTeams.fillna(0.00)\n",
    "    gamesTeams['powerPlayPercentage']= gamesTeams['powerPlayPercentage'].astype(str)+'%'\n",
    "    gamesTeams['turnOverDifferential'] = gamesTeams.takeaways - gamesTeams.giveaways\n",
    "    gamesTeams = pd.DataFrame(gamesTeams, columns = ['game_id', 'team_id', 'shots', 'hits', 'powerPlayPercentage', 'turnOverDifferential'])\n",
    "    return gamesTeams"
   ]
  },
  {
   "cell_type": "code",
   "execution_count": 20,
   "metadata": {
    "collapsed": false
   },
   "outputs": [],
   "source": [
    "def playersInputDetails():\n",
    "    playerFirstName = input(\"Please enter the list of players First Name separted by comma: \")\n",
    "    playerFirstName = playerFirstName.replace(\" \",\"\")\n",
    "    playerFirstName = playerFirstName.split(\",\")\n",
    "    playerLastName = input(\"Please enter the list of players Last Name separted by comma: \")\n",
    "    playerLastName = playerLastName.replace(\" \",\"\")\n",
    "    playerLastName = playerLastName.split(\",\")\n",
    "    playingSeason = input(\"Please enter the list of season for the players separted by comma: \")\n",
    "    playingSeason = playingSeason.replace(\" \",\"\")\n",
    "    playingSeason = playingSeason.split(\",\")\n",
    "    playersSeasonList = []\n",
    "    for i in playingSeason:\n",
    "        playersSeasonList.append(int(i))\n",
    "    return playerFirstName,playerLastName, playersSeasonList"
   ]
  },
  {
   "cell_type": "code",
   "execution_count": 21,
   "metadata": {
    "collapsed": true
   },
   "outputs": [],
   "source": [
    "def teamInputDetails():\n",
    "    ## Team details input\n",
    "    teamShortName = input(\"Please enter the list of teams Short Name separted by comma: \")\n",
    "    teamShortName = teamShortName.replace(\" \",\"\")\n",
    "    teamShortName = teamShortName.split(\",\")\n",
    "    teamTeamName = input(\"Please enter the list of teams Team Name separted by comma: \")\n",
    "    teamTeamName = teamTeamName.replace(\" \",\"\")\n",
    "    teamTeamName = teamTeamName.split(\",\")\n",
    "    teamSeason = input(\"Please enter the list of season for the teams separted by comma: \")\n",
    "    teamSeason = teamSeason.replace(\" \",\"\")\n",
    "    teamSeason = teamSeason.split(\",\")\n",
    "    teamSeasonList = []\n",
    "    for i in teamSeason:\n",
    "        teamSeasonList.append(int(i))\n",
    "    return teamShortName,teamTeamName, teamSeasonList"
   ]
  },
  {
   "cell_type": "code",
   "execution_count": 22,
   "metadata": {
    "collapsed": false
   },
   "outputs": [
    {
     "name": "stdout",
     "output_type": "stream",
     "text": [
      "Please enter the list of players First Name separted by comma: p\n",
      "Please enter the list of players Last Name separted by comma: a\n",
      "Please enter the valid First Name and Last Name\n"
     ]
    },
    {
     "ename": "SystemExit",
     "evalue": "",
     "output_type": "error",
     "traceback": [
      "An exception has occurred, use %tb to see the full traceback.\n",
      "\u001b[0;31mSystemExit\u001b[0m\n"
     ]
    },
    {
     "name": "stderr",
     "output_type": "stream",
     "text": [
      "C:\\Users\\chint\\Anaconda3\\lib\\site-packages\\IPython\\core\\interactiveshell.py:2889: UserWarning: To exit: use 'exit', 'quit', or Ctrl-D.\n",
      "  warn(\"To exit: use 'exit', 'quit', or Ctrl-D.\", stacklevel=1)\n"
     ]
    }
   ],
   "source": [
    "def main():\n",
    "    \n",
    "    #playerFirstName,playerLastName, playersSeasonList = playersInputDetails()\n",
    "    #teamShortName,teamTeamName, teamSeasonList = teamInputDetails()\n",
    "    playerAndGames = gettingThePlayerID()\n",
    "    print(\"A.How many shift per game did they take?\\nB.What was the average time per shift?\")\n",
    "    print(shiftsAnalysis(playerAndGames))\n",
    "    print(\"C.How many shot attempts did they have per game?\\nD.How many goals did they score per game?\")\n",
    "    shotsHitsForPlayers = shotsGoalsHitsPerPlayerPerGame(playerAndGames)\n",
    "    print(shotsHitsForPlayers)\n",
    "    shotsHitsForPlayers.pivot(index='game_id', columns='player_id', values='shots').plot(kind='bar',figsize=(40,10))\n",
    "    plt.show()\n",
    "    shotsHitsForPlayers.pivot(index='game_id', columns='player_id', values='hits').plot(kind='bar',figsize=(40,10))\n",
    "    plt.show()\n",
    "    teamDetails = gettingTeamDetails(teamShortName,teamTeamName, teamSeasonList)\n",
    "    print(\"A.What was their Power Play Percentage, computed as 100% (Power Play Attempts / Power Play Goals)?\\nB.Compute the average per game of the following metric (takeaways - giveaways)\")\n",
    "    teamStatisticsDetails = teamStatistics(teamDetails)\n",
    "    print(teamStatisticsDetails)\n",
    "    teamStatisticsDetails.pivot(index='game_id', columns='team_id', values='shots').plot(kind='bar',figsize=(40,10))\n",
    "    plt.show()\n",
    "    teamStatisticsDetails.pivot(index='game_id', columns='team_id', values='hits').plot(kind='bar',figsize=(40,10))\n",
    "    plt.show()\n",
    "    \n",
    "if __name__ == '__main__':\n",
    "    main()"
   ]
  },
  {
   "cell_type": "code",
   "execution_count": null,
   "metadata": {
    "collapsed": true
   },
   "outputs": [],
   "source": []
  },
  {
   "cell_type": "code",
   "execution_count": null,
   "metadata": {
    "collapsed": true
   },
   "outputs": [],
   "source": [
    "playerAndGames = gettingThePlayerID(['Patrick','Alex'],['Kane','Ovechkin'], [20162017])\n",
    "shiftsAnalysis(playerAndGames)\n",
    "shotsGoalsHitsPerPlayerPerGame(playerAndGames)\n",
    "teamDetails = gettingTeamDetails(['Washington'],['Capitals'], 20172018)"
   ]
  },
  {
   "cell_type": "code",
   "execution_count": null,
   "metadata": {
    "collapsed": true
   },
   "outputs": [],
   "source": []
  },
  {
   "cell_type": "code",
   "execution_count": null,
   "metadata": {
    "collapsed": true
   },
   "outputs": [],
   "source": []
  },
  {
   "cell_type": "code",
   "execution_count": null,
   "metadata": {
    "collapsed": true
   },
   "outputs": [],
   "source": []
  },
  {
   "cell_type": "code",
   "execution_count": null,
   "metadata": {
    "collapsed": true
   },
   "outputs": [],
   "source": []
  },
  {
   "cell_type": "code",
   "execution_count": null,
   "metadata": {
    "collapsed": true
   },
   "outputs": [],
   "source": []
  },
  {
   "cell_type": "code",
   "execution_count": null,
   "metadata": {
    "collapsed": true
   },
   "outputs": [],
   "source": []
  },
  {
   "cell_type": "code",
   "execution_count": null,
   "metadata": {
    "collapsed": true
   },
   "outputs": [],
   "source": []
  },
  {
   "cell_type": "code",
   "execution_count": null,
   "metadata": {
    "collapsed": true
   },
   "outputs": [],
   "source": []
  },
  {
   "cell_type": "code",
   "execution_count": null,
   "metadata": {
    "collapsed": true
   },
   "outputs": [],
   "source": []
  }
 ],
 "metadata": {
  "anaconda-cloud": {},
  "kernelspec": {
   "display_name": "Python [conda root]",
   "language": "python",
   "name": "conda-root-py"
  },
  "language_info": {
   "codemirror_mode": {
    "name": "ipython",
    "version": 3
   },
   "file_extension": ".py",
   "mimetype": "text/x-python",
   "name": "python",
   "nbconvert_exporter": "python",
   "pygments_lexer": "ipython3",
   "version": "3.5.2"
  }
 },
 "nbformat": 4,
 "nbformat_minor": 2
}
